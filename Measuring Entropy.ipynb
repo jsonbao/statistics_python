{
 "cells": [
  {
   "cell_type": "markdown",
   "metadata": {},
   "source": [
    "- A measure of a data set's disorder - how same or different it is\n",
    "- If we classify a data set into N different classes  (example: a data set of animal attributes and their species)\n",
    "    - The entropy is 0 if all of the classes in the data are the same ( everyone is an iguana )\n",
    "    - The entropy is high if they're all different\n",
    "- Again, a fancy word for a simple concept\n",
    "Computing entropy:\n",
    "- $H(S) = -p_1 lnp_1 - ... - p_n lnp_n$\n",
    "- $p_i$ represents the proportion of the data labeled for each class\n"
   ]
  }
 ],
 "metadata": {
  "kernelspec": {
   "display_name": "Python 3",
   "language": "python",
   "name": "python3"
  },
  "language_info": {
   "codemirror_mode": {
    "name": "ipython",
    "version": 3
   },
   "file_extension": ".py",
   "mimetype": "text/x-python",
   "name": "python",
   "nbconvert_exporter": "python",
   "pygments_lexer": "ipython3",
   "version": "3.5.1"
  }
 },
 "nbformat": 4,
 "nbformat_minor": 0
}
