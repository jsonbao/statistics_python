{
 "cells": [
  {
   "cell_type": "markdown",
   "metadata": {},
   "source": [
    "* Attempts to split data into K groups that are closest to K centroids\n",
    "* Unsupervised learning - uses only the positions of each data point\n",
    "* Can uncover interesting groupings of people / things / behaviour\n",
    "    * Example: Where do millionaires live?\n",
    "    * What genres of music / movies / etc. naturally fall out of data?\n",
    "    * Create your own stereotypes from demographic data"
   ]
  },
  {
   "cell_type": "markdown",
   "metadata": {},
   "source": [
    "How it works:\n",
    "- Randomly pick K centroids (k-means)\n",
    "- Assign each data point to the centroid it's closest to\n",
    "- Recompute the centroids based on the average position of each centroid's points\n",
    "- Iterate until points stop changing assignment to centroids\n",
    "- If you want to predict the cluster for new points, just find the centroid they're closest to."
   ]
  },
  {
   "cell_type": "markdown",
   "metadata": {
    "collapsed": true
   },
   "source": [
    "### K-means clustering gotchas:\n",
    "- Choosing K\n",
    "    - Try increasing K values until you stop getting large reductions in squared error (distances from each point to their centroids)\n",
    "- Avoiding local minima\n",
    "    - The random choice of initial centroids can yield different results\n",
    "    - Run it a few times just to make sure your initial results aren't wachy\n",
    "- Labeling the clusters\n",
    "    - K-means does not attempt to assign any meaning to the clusters you find\n",
    "    - It's up to you to dif into the data and try to determine that\n",
    "    "
   ]
  },
  {
   "cell_type": "markdown",
   "metadata": {},
   "source": [
    "### K-Means Clustering Example\n",
    "Let's make some fake data that includes people clustered by income and age, randomly:"
   ]
  },
  {
   "cell_type": "code",
   "execution_count": 14,
   "metadata": {
    "collapsed": true
   },
   "outputs": [],
   "source": [
    "import random\n",
    "import numpy as np\n",
    "#Create fake income/age clusters for N people in k clusters\n",
    "def createClusteredData(N, k):\n",
    "    random.seed(10)\n",
    "    pointsPerCluster = float(N)/k\n",
    "    X = []\n",
    "    for i in range(k):\n",
    "        incomeCentroid = random.uniform(20000.0, 200000.0)\n",
    "        ageCentroid = random.uniform(20.0, 70.0)\n",
    "        for j in range(int(pointsPerCluster)):\n",
    "            X.append([np.random.normal(incomeCentroid, 10000.0), np.random.normal(ageCentroid, 2.0)])\n",
    "    X = np.array(X)\n",
    "    return X\n"
   ]
  },
  {
   "cell_type": "markdown",
   "metadata": {},
   "source": [
    "We'll use k-means to rediscover these clusters in unsupervised learning:"
   ]
  },
  {
   "cell_type": "code",
   "execution_count": 15,
   "metadata": {
    "collapsed": false
   },
   "outputs": [
    {
     "name": "stdout",
     "output_type": "stream",
     "text": [
      "[4 4 2 2 4 4 4 2 2 2 2 2 2 2 4 2 2 4 2 2 1 1 3 1 1 1 1 3 1 1 3 1 1 1 3 1 1\n",
      " 1 3 1 0 0 0 0 0 0 0 0 0 0 0 0 0 0 0 0 0 0 0 0 3 3 3 3 3 1 3 1 3 3 3 3 1 3\n",
      " 3 3 3 3 3 3 4 4 4 1 1 4 4 4 4 1 2 4 4 4 4 4 1 2 4 4]\n"
     ]
    },
    {
     "data": {
      "text/plain": [
       "<matplotlib.collections.PathCollection at 0x10839fd30>"
      ]
     },
     "execution_count": 15,
     "metadata": {},
     "output_type": "execute_result"
    },
    {
     "data": {
      "image/png": "[encoded data removed]",
      "text/plain": [
       "<matplotlib.figure.Figure at 0x10805e4e0>"
      ]
     },
     "metadata": {},
     "output_type": "display_data"
    }
   ],
   "source": [
    "from sklearn.cluster import KMeans\n",
    "%matplotlib inline\n",
    "import matplotlib.pyplot as plt\n",
    "from sklearn.preprocessing import scale\n",
    "data = createClusteredData(100, 5)\n",
    "model = KMeans(n_clusters=5)\n",
    "# Scaling the data to normalize it, important for good results\n",
    "model = model.fit(scale(data))\n",
    "# We can look at the clusters each data point was assigned to\n",
    "print(model.labels_)\n",
    "# And visualize it:\n",
    "plt.figure(figsize=(8,6))\n",
    "plt.scatter(data[:, 0], data[:, 1], c=model.labels_.astype(np.float))"
   ]
  },
  {
   "cell_type": "code",
   "execution_count": null,
   "metadata": {
    "collapsed": true
   },
   "outputs": [],
   "source": []
  }
 ],
 "metadata": {
  "kernelspec": {
   "display_name": "Python 3",
   "language": "python",
   "name": "python3"
  },
  "language_info": {
   "codemirror_mode": {
    "name": "ipython",
    "version": 3
   },
   "file_extension": ".py",
   "mimetype": "text/x-python",
   "name": "python",
   "nbconvert_exporter": "python",
   "pygments_lexer": "ipython3",
   "version": "3.5.1"
  }
 },
 "nbformat": 4,
 "nbformat_minor": 0
}
