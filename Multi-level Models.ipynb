{
 "cells": [
  {
   "cell_type": "markdown",
   "metadata": {},
   "source": [
    "- The concept is that some effects happen at various levels.\n",
    "- Example: health depends on a hierarchy of the health of cells, organs, family, city, world you live in.\n",
    "- Wealth depends on your own work, what your parents did, what your grandparents did, etc.\n",
    "- Multi-level models attempt to model and account for these interdependencies.\n",
    "### Modeling multiple levels\n",
    "- You must identify the factors that affect the outcome you're trying to predict at each level.\n",
    "- For example - SAT scores might be predicted based on the genetics of individual children, the home environment of individual children, the crime rate of the neighborhood they live in, the quality of the teachers in their school, the funding of their school district, and the education policies of their state.\n",
    "- Some of these factors affect more than one level. For example, crime rate might influence the home environment too.\n",
    "(Modeling Multi-Level Systems, understanding complex systems book)"
   ]
  }
 ],
 "metadata": {
  "kernelspec": {
   "display_name": "Python 3",
   "language": "python",
   "name": "python3"
  },
  "language_info": {
   "codemirror_mode": {
    "name": "ipython",
    "version": 3
   },
   "file_extension": ".py",
   "mimetype": "text/x-python",
   "name": "python",
   "nbconvert_exporter": "python",
   "pygments_lexer": "ipython3",
   "version": "3.5.1"
  }
 },
 "nbformat": 4,
 "nbformat_minor": 0
}
