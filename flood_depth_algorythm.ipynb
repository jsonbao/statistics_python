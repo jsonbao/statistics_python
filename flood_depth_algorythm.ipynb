{
 "cells": [
  {
   "cell_type": "code",
   "execution_count": 1,
   "metadata": {
    "collapsed": true
   },
   "outputs": [],
   "source": [
    "%matplotlib inline"
   ]
  },
  {
   "cell_type": "code",
   "execution_count": 31,
   "metadata": {
    "collapsed": true
   },
   "outputs": [],
   "source": [
    "import matplotlib.pyplot as plt\n",
    "import numpy as np"
   ]
  },
  {
   "cell_type": "code",
   "execution_count": 50,
   "metadata": {
    "collapsed": false
   },
   "outputs": [
    {
     "data": {
      "image/png": "[encoded data removed]",
      "text/plain": [
       "<matplotlib.figure.Figure at 0x106b21320>"
      ]
     },
     "metadata": {},
     "output_type": "display_data"
    },
    {
     "name": "stdout",
     "output_type": "stream",
     "text": [
      "All values [ 7 11 18  7  1  9  0  1  2  4  6 17 18  8  6 17  8  8 11  1]\n",
      "local depth 0\n",
      "local depth 0\n",
      "local depth 0\n",
      "local depth 3\n",
      "local depth 3\n",
      "local depth 0\n",
      "local depth 0\n",
      "local depth 11\n",
      "local depth 9\n",
      "local depth 0\n",
      "local depth 1\n",
      "local depth 12\n",
      "local depth 14\n",
      "local depth 16\n",
      "local depth 17\n",
      "local depth 18\n",
      "local depth 9\n",
      "local depth 17\n",
      "local depth 11\n",
      "Result 18\n"
     ]
    }
   ],
   "source": [
    "#data visualization\n",
    "numbers_count = 20\n",
    "random_numbers = np.random.randint(20, size=numbers_count)\n",
    "x = list(range(numbers_count))\n",
    "width = 1\n",
    "plt.bar(x, random_numbers, width, color=\"blue\")\n",
    "plt.title(\"Flood_depth\")\n",
    "plt.xlabel(\"Value\")\n",
    "plt.ylabel(\"Column\")\n",
    "plt.show()\n",
    "print(\"All values\",random_numbers)\n",
    "\n",
    "def solution(a):\n",
    "    max_depth = 0\n",
    "    l_maximum = r_maximum = 0\n",
    "    left_idx, right_idx = 0, len(a)-1\n",
    "    while left_idx < right_idx:\n",
    "        if a[left_idx] > l_maximum:\n",
    "            l_maximum = a[left_idx]\n",
    "        if a[right_idx] > r_maximum:\n",
    "            r_maximum = a[right_idx]\n",
    "        if l_maximum >= r_maximum:\n",
    "            max_depth_local = r_maximum - a[right_idx]\n",
    "            right_idx-=1\n",
    "        else:\n",
    "            max_depth_local = l_maximum - a[left_idx]\n",
    "            left_idx+=1\n",
    "        print(\"local depth\", max_depth_local)\n",
    "        if max_depth_local > max_depth:\n",
    "            max_depth = max_depth_local\n",
    "    return max_depth\n",
    "print(\"Result\",solution(random_numbers))"
   ]
  },
  {
   "cell_type": "code",
   "execution_count": null,
   "metadata": {
    "collapsed": true
   },
   "outputs": [],
   "source": []
  }
 ],
 "metadata": {
  "kernelspec": {
   "display_name": "Python 3",
   "language": "python",
   "name": "python3"
  },
  "language_info": {
   "codemirror_mode": {
    "name": "ipython",
    "version": 3
   },
   "file_extension": ".py",
   "mimetype": "text/x-python",
   "name": "python",
   "nbconvert_exporter": "python",
   "pygments_lexer": "ipython3",
   "version": "3.5.1"
  }
 },
 "nbformat": 4,
 "nbformat_minor": 0
}
