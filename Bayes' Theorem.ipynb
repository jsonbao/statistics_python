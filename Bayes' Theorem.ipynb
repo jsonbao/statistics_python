{
 "cells": [
  {
   "cell_type": "markdown",
   "metadata": {},
   "source": [
    "Bayes' theorem\n",
    "$P(A|B) = P(A)P(B|A) \\div P(B)$\n",
    "The probability of A given B, is the probability of A times the probability of B given A over the probability of B.\n",
    "The probability of smth that depends on B depends vary much on the base probability of B and A.\n",
    "-----\n",
    "- e.g. drug test. Accurate test can produce more false positives than true positives.\n",
    "- If test accurately identify users of a drug 99% of the time, and accurately has a negative result for 99% of non-users. But only 0.3% of the overall population actually uses this drug.\n",
    "- Event A = is a user of the drug, Event B = tested positively for the drug.\n",
    "- We can work out from info that P(B) is 1.3% (0.99 * 0.003 + 0.01 * 0.997 - the probability of testing positive if you do use, plus the probability of testing positive if you don't. True + Fasle positives)\n",
    "- P(A|B) = P(A)P(B|A)/P(B) = 0.003*0.99 / 0.013 = 22.8%\n",
    "- So the odds of someone being an actual user of the drug given that they tested positive is only 22.8%\n",
    "- Even though P(B|A) is high (99%), it doesn't mean P(A|B) is high."
   ]
  },
  {
   "cell_type": "code",
   "execution_count": null,
   "metadata": {
    "collapsed": true
   },
   "outputs": [],
   "source": []
  }
 ],
 "metadata": {
  "kernelspec": {
   "display_name": "Python 3",
   "language": "python",
   "name": "python3"
  },
  "language_info": {
   "codemirror_mode": {
    "name": "ipython",
    "version": 3
   },
   "file_extension": ".py",
   "mimetype": "text/x-python",
   "name": "python",
   "nbconvert_exporter": "python",
   "pygments_lexer": "ipython3",
   "version": "3.5.1"
  }
 },
 "nbformat": 4,
 "nbformat_minor": 0
}
