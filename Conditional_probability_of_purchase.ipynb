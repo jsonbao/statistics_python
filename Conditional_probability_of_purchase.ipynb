{
 "cells": [
  {
   "cell_type": "markdown",
   "metadata": {},
   "source": [
    "let's say that 40% of purchase is regardless of age"
   ]
  },
  {
   "cell_type": "code",
   "execution_count": 1,
   "metadata": {
    "collapsed": false
   },
   "outputs": [
    {
     "name": "stderr",
     "output_type": "stream",
     "text": []
    }
   ],
   "source": [
    "import numpy as np\n",
    "from tqdm import tqdm\n",
    "np.random.seed(0)\n",
    "totals = {20:0, 30:0, 40:0, 50:0, 60:0, 70:0}\n",
    "purchases = {20:0, 30:0, 40:0, 50:0, 60:0, 70:0}\n",
    "totalPurchases = 0\n",
    "for _ in tqdm(range(100000)):\n",
    "    ageDecade = np.random.choice([20, 30, 40, 50, 60, 70])\n",
    "    purchaseProbability = 0.4 #constant and doesn't depend on age\n",
    "    totals[ageDecade] += 1\n",
    "    if np.random.random() < purchaseProbability:\n",
    "        totalPurchases += 1\n",
    "        purchases[ageDecade] += 1"
   ]
  },
  {
   "cell_type": "code",
   "execution_count": 2,
   "metadata": {
    "collapsed": false
   },
   "outputs": [
    {
     "name": "stdout",
     "output_type": "stream",
     "text": [
      "P(purchase | 30's): 0.3987604549010169\n"
     ]
    }
   ],
   "source": [
    "# P(E|F) for 30 year age goup\n",
    "PEF = float(purchases[30]) / float(totals[30])\n",
    "print(\"P(purchase | 30's):\", PEF)"
   ]
  },
  {
   "cell_type": "code",
   "execution_count": 3,
   "metadata": {
    "collapsed": false
   },
   "outputs": [
    {
     "name": "stdout",
     "output_type": "stream",
     "text": [
      "P(Purchase): 0.4003\n"
     ]
    }
   ],
   "source": [
    "#P(E):\n",
    "PE = float(totalPurchases) / 100000.0\n",
    "print(\"P(Purchase):\", PE)"
   ]
  },
  {
   "cell_type": "markdown",
   "metadata": {},
   "source": [
    "P(E|F) is close to P(E), so E and F are likely independent variables."
   ]
  },
  {
   "cell_type": "code",
   "execution_count": null,
   "metadata": {
    "collapsed": true
   },
   "outputs": [],
   "source": []
  }
 ],
 "metadata": {
  "kernelspec": {
   "display_name": "Python 3",
   "language": "python",
   "name": "python3"
  },
  "language_info": {
   "codemirror_mode": {
    "name": "ipython",
    "version": 3
   },
   "file_extension": ".py",
   "mimetype": "text/x-python",
   "name": "python",
   "nbconvert_exporter": "python",
   "pygments_lexer": "ipython3",
   "version": "3.5.1"
  }
 },
 "nbformat": 4,
 "nbformat_minor": 0
}
